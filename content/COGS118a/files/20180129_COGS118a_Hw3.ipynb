{
 "cells": [
  {
   "cell_type": "markdown",
   "metadata": {},
   "source": [
    "# Minimizers and Maximizers\n",
    "\n",
    "## Probability\n",
    "\n",
    "1. $(i^*, j^*) = (0, 1)$\n",
    "2. $j^* = 1$\n",
    "3. $i^* = 0$ \n",
    "\n",
    "## Function\n",
    "\n",
    "Because $10 - 3 \\times \\ln(G(\\theta))$ will be minimized when $G(\\theta)$ is maximized, $\\theta^* = 67$. "
   ]
  }
 ],
 "metadata": {
  "kernelspec": {
   "display_name": "Python 3",
   "language": "python",
   "name": "python3"
  },
  "language_info": {
   "codemirror_mode": {
    "name": "ipython",
    "version": 3
   },
   "file_extension": ".py",
   "mimetype": "text/x-python",
   "name": "python",
   "nbconvert_exporter": "python",
   "pygments_lexer": "ipython3",
   "version": "3.6.3"
  }
 },
 "nbformat": 4,
 "nbformat_minor": 2
}
