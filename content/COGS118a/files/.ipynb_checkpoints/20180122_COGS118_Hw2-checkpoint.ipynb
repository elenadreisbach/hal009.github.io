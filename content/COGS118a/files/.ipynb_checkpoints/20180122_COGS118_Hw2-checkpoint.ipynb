{
 "cells": [
  {
   "cell_type": "markdown",
   "metadata": {},
   "source": [
    "# Matrix Calculus"
   ]
  },
  {
   "cell_type": "markdown",
   "metadata": {},
   "source": [
    "## \n",
    "\n",
    "$$\n",
    "\\begin{align}\n",
    "f(x) &= \\lambda(1 - x^2) \\\\\n",
    "&= \\lambda - \\lambda x^2 \\\\\n",
    "f'(x) &= -2\\lambda x\n",
    "\\end{align}\n",
    "$$"
   ]
  },
  {
   "cell_type": "markdown",
   "metadata": {},
   "source": [
    "##\n",
    "\n",
    "$$\n",
    "\\begin{align}\n",
    "f(\\mathbf{x}) &= \\lambda(1 - \\mathbf{x}^TA\\mathbf{x}) \\\\\n",
    "&= \\lambda - \\lambda \\mathbf{x}^TA\\mathbf{x} \\\\\n",
    "\\frac{\\partial f(\\mathbf{x})}{\\partial \\mathbf{x}} &= \\frac{\\partial}{\\partial \\mathbf{x}} (\\lambda) - \\frac{\\partial}{\\partial \\mathbf{x}} \\left( \\lambda \\mathbf{x}^TA\\mathbf{x} \\right) \\\\\n",
    "&= - \\lambda \\frac{\\partial}{\\partial \\mathbf{x}} \\left( \\mathbf{x}^TA\\mathbf{x} \\right) \\\\\n",
    "&= -2\\lambda A \\mathbf{x}\n",
    "\\end{align}\n",
    "$$"
   ]
  },
  {
   "cell_type": "markdown",
   "metadata": {},
   "source": [
    "# Decision Boundary"
   ]
  },
  {
   "cell_type": "markdown",
   "metadata": {},
   "source": [
    "##"
   ]
  },
  {
   "cell_type": "code",
   "execution_count": 25,
   "metadata": {
    "scrolled": true
   },
   "outputs": [
    {
     "data": {
      "image/png": "[encoded data removed]",
      "text/plain": [
       "<matplotlib.figure.Figure at 0x7f9a1208f7b8>"
      ]
     },
     "metadata": {},
     "output_type": "display_data"
    }
   ],
   "source": [
    "import matplotlib.pyplot as plt\n",
    "x = [0, 1 , 2, 3, 4, 5]\n",
    "y = [2, 1.5, 1, .5, 0, -.5]\n",
    "plt.plot(x, y)\n",
    "plt.plot(0, 2, 'o')\n",
    "plt.plot(4, 0, 'o')\n",
    "plt.axis([0, 5, 0, 5])\n",
    "plt.ylabel('x2')\n",
    "plt.xlabel('x1')\n",
    "plt.fill_between(x, y, 10, interpolate=True)\n",
    "plt.show()"
   ]
  },
  {
   "cell_type": "code",
   "execution_count": null,
   "metadata": {
    "collapsed": true
   },
   "outputs": [],
   "source": [
    "\n"
   ]
  }
 ],
 "metadata": {
  "kernelspec": {
   "display_name": "Python 3",
   "language": "python",
   "name": "python3"
  },
  "language_info": {
   "codemirror_mode": {
    "name": "ipython",
    "version": 3
   },
   "file_extension": ".py",
   "mimetype": "text/x-python",
   "name": "python",
   "nbconvert_exporter": "python",
   "pygments_lexer": "ipython3",
   "version": "3.6.3"
  }
 },
 "nbformat": 4,
 "nbformat_minor": 2
}
