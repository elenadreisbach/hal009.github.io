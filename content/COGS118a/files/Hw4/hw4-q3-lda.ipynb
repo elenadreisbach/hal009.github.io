{
 "cells": [
  {
   "cell_type": "code",
   "execution_count": null,
   "metadata": {
    "ExecuteTime": {
     "end_time": "2018-02-05T23:19:55.743563Z",
     "start_time": "2018-02-05T23:19:55.289600Z"
    },
    "collapsed": true
   },
   "outputs": [],
   "source": [
    "import numpy as np\n",
    "import matplotlib.pyplot as plt\n",
    "%config InlineBackend.figure_format = 'retina'"
   ]
  },
  {
   "cell_type": "code",
   "execution_count": null,
   "metadata": {
    "ExecuteTime": {
     "end_time": "2018-02-06T01:33:07.526126Z",
     "start_time": "2018-02-06T01:33:07.352987Z"
    },
    "collapsed": true
   },
   "outputs": [],
   "source": [
    "# Load the data and visualize.\n",
    "Xs = np.load('hw4-q3-lda.npy')\n",
    "\n",
    "X_0 = np.matrix(Xs[:, 0:2]).T  # Shape: (2, 100).\n",
    "X_1 = np.matrix(Xs[:, 2:4]).T  # Shape: (2, 100).\n",
    "\n",
    "print(X_0.shape, X_1.shape)\n",
    "plt.scatter(X_0[0].tolist(), X_0[1].tolist(), color='orange')\n",
    "plt.scatter(X_1[0].tolist(), X_1[1].tolist(), color='blue')\n",
    "plt.axis('scaled')\n",
    "plt.xlabel('$x_1$')\n",
    "plt.ylabel('$x_2$')\n",
    "plt.show()"
   ]
  },
  {
   "cell_type": "code",
   "execution_count": null,
   "metadata": {
    "ExecuteTime": {
     "end_time": "2018-02-06T01:33:35.616671Z",
     "start_time": "2018-02-06T01:33:35.607696Z"
    },
    "collapsed": true
   },
   "outputs": [],
   "source": [
    "# (a) Compute mean of each class.\n",
    "mu_0 = _________ # Shape: (2, 1).\n",
    "mu_1 = _________ # Shape: (2, 1).\n",
    "\n",
    "print(mu_0.shape, mu_1.shape)\n",
    "print('mu_0=\\n{},\\nmu_1=\\n{}'.format(mu_0, mu_1))"
   ]
  },
  {
   "cell_type": "code",
   "execution_count": null,
   "metadata": {
    "ExecuteTime": {
     "end_time": "2018-02-06T01:35:23.769261Z",
     "start_time": "2018-02-06T01:35:23.758510Z"
    },
    "collapsed": true
   },
   "outputs": [],
   "source": [
    "# (b) Compute the covariance matrix for each class, Sigma_0 and Sigma_1.\n",
    "Sigma_0 = _________ # Shape: (2, 2).\n",
    "Sigma_1 = _________ # Shape: (2, 2).\n",
    "\n",
    "print(Sigma_0.shape, Sigma_1.shape)\n",
    "print('Sigma_0=\\n{},\\nSigma_1=\\n{}'.format(Sigma_0, Sigma_1))"
   ]
  },
  {
   "cell_type": "code",
   "execution_count": null,
   "metadata": {
    "ExecuteTime": {
     "end_time": "2018-02-06T01:35:33.286898Z",
     "start_time": "2018-02-06T01:35:33.277333Z"
    },
    "collapsed": true
   },
   "outputs": [],
   "source": [
    "# (c) Find the optimal w_star and w_tilde_star with unit length.\n",
    "w_star       = _________ # Shape: (2, 1).\n",
    "w_tilde_star = _________ # Shape: (2, 1).\n",
    "\n",
    "print(w_star.shape, w_tilde_star.shape)\n",
    "print('w_star=\\n{},\\nw_tilde_star=\\n{}'.format(w_star, w_tilde_star))"
   ]
  },
  {
   "cell_type": "code",
   "execution_count": null,
   "metadata": {
    "ExecuteTime": {
     "end_time": "2018-02-06T01:39:28.300289Z",
     "start_time": "2018-02-06T01:39:28.107361Z"
    },
    "collapsed": true
   },
   "outputs": [],
   "source": [
    "# (d) Compute the projection and plot the figure.\n",
    "Xproj_0 = _________ # Shape: (2, 100).\n",
    "Xproj_1 = _________ # Shape: (2, 100).\n",
    "\n",
    "print(Xproj_0.shape, Xproj_1.shape)\n",
    "plt.scatter(X_0[0].tolist(), X_0[1].tolist(), color='orange')\n",
    "plt.scatter(X_1[0].tolist(), X_1[1].tolist(), color='blue')\n",
    "plt.scatter(Xproj_0[0].tolist(), Xproj_0[1].tolist(), color='yellow')\n",
    "plt.scatter(Xproj_1[0].tolist(), Xproj_1[1].tolist(), color='green')\n",
    "plt.axis('scaled')\n",
    "plt.xlabel('$x_1$')\n",
    "plt.ylabel('$x_2$')\n",
    "plt.show()"
   ]
  }
 ],
 "metadata": {
  "kernelspec": {
   "display_name": "Python 3",
   "language": "python",
   "name": "python3"
  },
  "language_info": {
   "codemirror_mode": {
    "name": "ipython",
    "version": 3
   },
   "file_extension": ".py",
   "mimetype": "text/x-python",
   "name": "python",
   "nbconvert_exporter": "python",
   "pygments_lexer": "ipython3",
   "version": "3.6.3"
  },
  "toc": {
   "colors": {
    "hover_highlight": "#DAA520",
    "navigate_num": "#000000",
    "navigate_text": "#333333",
    "running_highlight": "#FF0000",
    "selected_highlight": "#FFD700",
    "sidebar_border": "#EEEEEE",
    "wrapper_background": "#FFFFFF"
   },
   "moveMenuLeft": true,
   "nav_menu": {
    "height": "12px",
    "width": "252px"
   },
   "navigate_menu": true,
   "number_sections": true,
   "sideBar": true,
   "threshold": 4,
   "toc_cell": false,
   "toc_section_display": "block",
   "toc_window_display": false,
   "widenNotebook": false
  }
 },
 "nbformat": 4,
 "nbformat_minor": 2
}
