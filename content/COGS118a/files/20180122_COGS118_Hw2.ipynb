{
 "cells": [
  {
   "cell_type": "markdown",
   "metadata": {},
   "source": [
    "# Matrix Calculus"
   ]
  },
  {
   "cell_type": "markdown",
   "metadata": {},
   "source": [
    "## \n",
    "\n",
    "$$\n",
    "\\begin{align}\n",
    "f(x) &= \\lambda(1 - x^2) \\\\\n",
    "&= \\lambda - \\lambda x^2 \\\\\n",
    "f'(x) &= -2\\lambda x\n",
    "\\end{align}\n",
    "$$"
   ]
  },
  {
   "cell_type": "markdown",
   "metadata": {},
   "source": [
    "##\n",
    "\n",
    "$$\n",
    "\\begin{align}\n",
    "f(\\mathbf{x}) &= \\lambda(1 - \\mathbf{x}^TA\\mathbf{x}) \\\\\n",
    "&= \\lambda - \\lambda \\mathbf{x}^TA\\mathbf{x} \\\\\n",
    "\\frac{\\partial f(\\mathbf{x})}{\\partial \\mathbf{x}} &= \\frac{\\partial}{\\partial \\mathbf{x}} (\\lambda) - \\frac{\\partial}{\\partial \\mathbf{x}} \\left( \\lambda \\mathbf{x}^TA\\mathbf{x} \\right) \\\\\n",
    "&= - \\lambda \\frac{\\partial}{\\partial \\mathbf{x}} \\left( \\mathbf{x}^TA\\mathbf{x} \\right) \\\\\n",
    "&= -2\\lambda A \\mathbf{x}\n",
    "\\end{align}\n",
    "$$"
   ]
  },
  {
   "cell_type": "markdown",
   "metadata": {},
   "source": [
    "# Decision Boundary"
   ]
  },
  {
   "cell_type": "markdown",
   "metadata": {},
   "source": [
    "##"
   ]
  },
  {
   "cell_type": "code",
   "execution_count": 41,
   "metadata": {
    "scrolled": true
   },
   "outputs": [
    {
     "data": {
      "image/png": "[encoded data removed]",
      "text/plain": [
       "<matplotlib.figure.Figure at 0x7f9a1276a1d0>"
      ]
     },
     "metadata": {},
     "output_type": "display_data"
    }
   ],
   "source": [
    "import matplotlib.pyplot as plt\n",
    "x = [0, 1 , 2, 3, 4, 5]\n",
    "y = [2, 1.5, 1, .5, 0, -.5]\n",
    "fig = plt.figure()\n",
    "fig.text(.5, -.01, \"Plot of x1 + 2x2 - 4 > 0. Region shaded in blue represents where the classifier would predict 1.\", ha=\"center\")\n",
    "plt.plot(x, y)\n",
    "plt.plot(0, 2, 'o', color='r', label='x2 intercept')\n",
    "plt.plot(4, 0, 'o', color='y', label='x1 intercept')\n",
    "plt.axis([0, 5, 0, 5])\n",
    "plt.ylabel('x2')\n",
    "plt.xlabel('x1')\n",
    "plt.fill_between(x, y, 10)\n",
    "plt.legend(loc = 'upper right')\n",
    "\n",
    "plt.show()"
   ]
  },
  {
   "cell_type": "markdown",
   "metadata": {},
   "source": [
    "##\n",
    "\n",
    "When $x_1 = 0, x_2 = 1$ and when $x_1 = 1, x_2 = 0$. This gives three equations: \n",
    "\n",
    "$$\n",
    "\\begin{align}\n",
    "w_1 + b &= 0\\\\\n",
    "w_2 + b &= 0 \\\\\n",
    "\\sqrt{w_1^2 + w_2^2} &= 1\n",
    "\\end{align}\n",
    "$$\n",
    "\n",
    "Solving for $w_1$ and $w_2$ and plugging into the third equation we get: \n",
    "\n",
    "$$\n",
    "\\begin{align}\n",
    "\\sqrt{(-b)^2 + (-b)^2} &= 1 \\\\\n",
    "\\sqrt{2b^2} &= 1 \\\\\n",
    "b &= \\pm \\frac{\\sqrt{2}}{2}\n",
    "\\end{align}\n",
    "$$\n",
    "\n",
    "Taking the negative sign for the above and plugging into the original equation we get:\n",
    "\n",
    "$$\n",
    "\\begin{align}\n",
    "\\frac{\\sqrt{2}}{2} x_1 + \\frac{\\sqrt{2}}{2} x_2 - \\frac{\\sqrt{2}}{2} \\ge 0\n",
    "\\end{align}\n",
    "$$\n",
    "\n",
    "We can verify this result by plugging in a coordinate that we know should predict 1, say (0, 2):\n",
    "\n",
    "$$\n",
    "\\begin{align}\n",
    "0 + \\sqrt{2} - \\frac{\\sqrt{2}}{2} &\\ge 0 \\\\ \n",
    "\\frac{3 \\sqrt{2}}{2} &\\ge 0 \\quad \\checkmark\n",
    "\\end{align}\n",
    "$$"
   ]
  },
  {
   "cell_type": "markdown",
   "metadata": {},
   "source": [
    "# One-hot Encoding "
   ]
  },
  {
   "cell_type": "markdown",
   "metadata": {},
   "source": [
    "Writing each sample as a row vector, we can represent $S$ as a matrix like so, \n",
    "\n",
    "$$\n",
    "S = \n",
    "\\begin{pmatrix}\n",
    "183 & 62 & 1 & 0 & 0 & 1 & 0 & 0 & 0 \\\\\n",
    "181 & 65 & 0 & 1 & 0 & 0 & 1 & 0 & 0 \\\\ \n",
    "182 & 59 & 0 & 1 & 0 & 0 & 0 & 1 & 0 \\\\ \n",
    "179 & 68 & 0 & 0 & 1 & 1 & 0 & 0 & 0 \\\\\n",
    "182 & 53 & 1 & 0 & 0 & 0 & 0 & 0 & 1 \n",
    "\\end{pmatrix} \n",
    "$$\n",
    "\n",
    "The first column represents length in inches, the second column represents height in inches. Using one-hot encoding the next three columns represent the make of the car with a one in the third column representing a Toyota, a one in the fourth column representing BMW, and a one in the fifth column representing Ford. Also using one-hot encoding, the next 4 columns represent the color of the car with a 1 in the sixth column representing Blue, a one in the seventh column representing Silver, a one in the eighth column representing Red, and a one in the ninth column representing Black. "
   ]
  },
  {
   "cell_type": "markdown",
   "metadata": {},
   "source": [
    "# Conditional Probability \n",
    "\n",
    "##\n",
    "\n",
    "$$\n",
    "\\begin{align}\n",
    "P(cancer + | test +) &= \\frac{P(test + | cancer +)P(cancer +)}{P(test + | cancer +)P(cancer +) + P(test + | cancer - )P(cancer -)} \\\\\n",
    "&= \\frac{(.98)(.0006)}{(.98)(.0006) + (.06)(.9994)} \\\\\n",
    "&=  0.00971066191\\\\\n",
    "&\\approx .97\\%\n",
    "\\end{align}\n",
    "$$\n",
    "\n",
    "##\n",
    "\n",
    "$$\n",
    "\\begin{align}\n",
    "P(cancer - | test -) &= \\frac{P(test - | cancer -)P(cancer -)}{P(test - | cancer -)P(cancer -) + P(test - | cancer + )P(cancer +)} \\\\\n",
    "&= \\frac{(.94)(.9994)}{(.94)(.9994) + (.02)(.0006)} \\\\\n",
    "&= 0.99998722654\\\\\n",
    "&\\approx 99.99\\%\n",
    "\\end{align}\n",
    "$$\n",
    "\n",
    "##\n",
    "\n",
    "**Precision**: \n",
    "\n",
    "$P(cancer+ | test +) = .97\\%$\n",
    "\n",
    "**Recall**:\n",
    "\n",
    "$P(test + | cancer + ) = 98\\%$"
   ]
  },
  {
   "cell_type": "markdown",
   "metadata": {},
   "source": [
    "# Binary Communication System\n",
    "\n",
    "##\n",
    "\n",
    "$$P(X = 2) = 0$$\n",
    "\n",
    "## \n",
    "\n",
    "$$P(Y = 0 | X = 1) = P(Y = 0, X = 1)P(X = 1) = (.3)(.8) = .24$$\n",
    "\n",
    "##\n",
    "\n",
    "$$P(Y = 0) = (.3)(.8) + (.5)(.2) = .34$$\n",
    "\n",
    "##\n",
    "\n",
    "$$\n",
    "\\begin{align}\n",
    "P(X = 1 | Y = 0) &= \\frac{P(Y = 0 | X = 1)P(X = 1)}{P(Y = 0)} \\\\\n",
    "&= \\frac{.24}{.34} \\\\\n",
    "&= 0.7058823529411764 \\\\\n",
    "&\\approx 0.7059\n",
    "\\end{align}\n",
    "$$"
   ]
  }
 ],
 "metadata": {
  "kernelspec": {
   "display_name": "Python 3",
   "language": "python",
   "name": "python3"
  },
  "language_info": {
   "codemirror_mode": {
    "name": "ipython",
    "version": 3
   },
   "file_extension": ".py",
   "mimetype": "text/x-python",
   "name": "python",
   "nbconvert_exporter": "python",
   "pygments_lexer": "ipython3",
   "version": "3.6.3"
  }
 },
 "nbformat": 4,
 "nbformat_minor": 2
}
